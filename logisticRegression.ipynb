{
 "cells": [
  {
   "cell_type": "markdown",
   "metadata": {},
   "source": [
    "# Logistic Regression"
   ]
  },
  {
   "cell_type": "markdown",
   "metadata": {},
   "source": [
    "A machine learning problem I would like to solve using Logistic Regression is to predict the income of someone based on factors in their life that can lead to insight on how much money they make. \n"
   ]
  },
  {
   "cell_type": "markdown",
   "metadata": {},
   "source": [
    "### Dataset selection\n",
    "\n",
    "It was difficult to find a good dataset that could be used with logistic regression, as the nature of the problem is not likley to produce linearlly seperable or close to it data, since there are a high vareity of factors that lead to someones income. Also good data is hard to find, since it involes very personal data, and many public datasets are estimates of how many people fall under each categories.\n",
    "\n",
    "Eventually I used the Census Income data set from the UCI dataset website, which is a very popular dataset that lists certain attributes of people, and whether they make <=50K or >50K.\n",
    "\n",
    "### Exploratory Data Analysis\n",
    "\n",
    "To look into how well the data would work for this problem, and to try and select reasonalble features, I used matplotlib to plot distributions of two different parameter, to try and find some visual trends that could be solved using logistic regression. I knew that age would be one of the features, so I plotted it against a number of different parameters in the dataset and found that Hours Worked produced data that most resembled two distinct groups. "
   ]
  },
  {
   "cell_type": "code",
   "execution_count": 1,
   "metadata": {},
   "outputs": [
    {
     "data": {
      "image/png": "[encoded data removed]",
      "text/plain": [
       "<Figure size 432x288 with 1 Axes>"
      ]
     },
     "metadata": {
      "needs_background": "light"
     },
     "output_type": "display_data"
    }
   ],
   "source": [
    "import matplotlib.pyplot as plt\n",
    "\n",
    "file = open('adult.data')\n",
    "lines = file.readlines()\n",
    "age, hours, income = [], [], []\n",
    "for i in range(1000):\n",
    "    age.append(int(lines[i].strip().split(',')[0]))\n",
    "    hours.append(int(lines[i].strip().split(',')[12]))\n",
    "    income.append(lines[i].strip().split(',')[-1])\n",
    "    \n",
    "for i in range(1000):\n",
    "    if income[i] == ' <=50K':\n",
    "        plt.plot(age[i], hours[i], 'rx')\n",
    "    else:\n",
    "        plt.plot(age[i], hours[i], 'bo')\n",
    "plt.show()"
   ]
  },
  {
   "cell_type": "markdown",
   "metadata": {},
   "source": [
    "The dataset has no missing values, so I don't need to worry about that issue with this problem. Unfortunatley, there seems to be an outlier problem, but there is not much I can do to curb that besides indivdually removing data points. "
   ]
  },
  {
   "cell_type": "markdown",
   "metadata": {},
   "source": [
    "# Implementation"
   ]
  },
  {
   "cell_type": "code",
   "execution_count": 2,
   "metadata": {},
   "outputs": [],
   "source": [
    "# Read processed data and form X and Y matrices\n",
    "import numpy as np\n",
    "f = open('adult.data')\n",
    "lines = f.readlines()[:-1]\n",
    "#np.random.shuffle(lines)\n",
    "X, Y = [], []\n",
    "#for i in range(len(lines)):\n",
    "for i in range(1000):\n",
    "    l = lines[i].strip().split(',')\n",
    "    X.append([1, float(l[0]), float(l[12])])\n",
    "    if l[-1] == ' <=50K':\n",
    "        Y.append(-1.0)\n",
    "    else:\n",
    "        Y.append(1.0)\n",
    "X, Y = np.array(X), np.array(Y)\n"
   ]
  },
  {
   "cell_type": "code",
   "execution_count": 3,
   "metadata": {
    "scrolled": true
   },
   "outputs": [],
   "source": [
    "# Split into training and test data\n",
    "# Because we randomized the lines when we read them in,\n",
    "# we can just select the first values of the data arrays, and have X and Y match\n",
    "x_test, x_train = X[0:int(0.2*len(X))], X[int(0.2*len(X))+1:]\n",
    "y_test, y_train = Y[0:int(0.2*len(Y))], Y[int(0.2*len(Y))+1:]"
   ]
  },
  {
   "cell_type": "code",
   "execution_count": 4,
   "metadata": {},
   "outputs": [],
   "source": [
    "import math\n",
    "\n",
    "def loss(X, Y, w):\n",
    "    steps = 0\n",
    "    for i in range(len(Y)):\n",
    "        steps += (Y[i] * X[i]) / (1 + (math.e ** (Y[i] * np.dot(w, X[i]))))\n",
    "    gradient = - 1.0 / len(Y) * steps\n",
    "    return gradient\n",
    "\n",
    "def update(w, dw, r):\n",
    "    return w - (r * dw)\n",
    "\n",
    "def error(X, Y, w):\n",
    "    e_in = 0.0\n",
    "    for i in range(len(Y)):\n",
    "        e_in += np.log(1.0 + math.e ** (-1.0 * Y[i] * np.dot(w.T, X[i].T)))\n",
    "    return e_in / len(Y)\n"
   ]
  },
  {
   "cell_type": "code",
   "execution_count": 5,
   "metadata": {},
   "outputs": [
    {
     "name": "stdout",
     "output_type": "stream",
     "text": [
      "Iteration 0 Test Error: 15.999716989052144\n",
      "Iteration 1000 Test Error: 0.6115567848970731\n",
      "Iteration 2000 Test Error: 0.6089354617399386\n",
      "Iteration 3000 Test Error: 0.6063737229465288\n",
      "Iteration 4000 Test Error: 0.6038703062761925\n",
      "Iteration 5000 Test Error: 0.6014239601193824\n",
      "Iteration 6000 Test Error: 0.5990334447275852\n",
      "Iteration 7000 Test Error: 0.596697533347809\n",
      "Iteration 8000 Test Error: 0.5944150132609537\n",
      "Iteration 9000 Test Error: 0.5921846867263569\n",
      "[ 0.13319648 -0.0120579  -0.01619075]\n",
      "0.5900075260590594\n"
     ]
    }
   ],
   "source": [
    "# Vanilla Gradient Descent\n",
    "\n",
    "import random\n",
    "weights = np.array([random.uniform(-2.0, 2.0), random.uniform(-2.0, 2.0), random.uniform(-2.0, 2.0)])\n",
    "best_e, best_w = 1000000000, [] \n",
    "rate = 0.001\n",
    "for i in range(10000):\n",
    "    dw = loss(x_train, y_train, weights)\n",
    "    weights = update(weights, dw, rate)\n",
    "    e_in = error(x_train, y_train, weights)\n",
    "    if i % 1000 == 0:\n",
    "        print(\"Iteration\", i, \"Test Error:\", e_in)\n",
    "    if e_in < best_e:\n",
    "        best_e = e_in\n",
    "        best_w = weights\n",
    "weights = best_w\n",
    "print(weights)\n",
    "print(best_e)"
   ]
  },
  {
   "cell_type": "code",
   "execution_count": 6,
   "metadata": {},
   "outputs": [
    {
     "data": {
      "image/png": "[encoded data removed]",
      "text/plain": [
       "<Figure size 432x288 with 1 Axes>"
      ]
     },
     "metadata": {
      "needs_background": "light"
     },
     "output_type": "display_data"
    }
   ],
   "source": [
    "y0, y1 = (-weights[1] / weights[2]) * 0 - (weights[0] / weights[2]), (-weights[1] / weights[2]) * 100 - (weights[0] / weights[2])\n",
    "plt.plot([0, 100], [y0, y1], 'k--')\n",
    "for i in range(len(x_test)):\n",
    "    plt.plot(x_test[i][1], x_test[i][2], 'rx' if Y[i] == -1.0 else 'bo')\n",
    "\n",
    "plt.show()"
   ]
  },
  {
   "cell_type": "code",
   "execution_count": 8,
   "metadata": {},
   "outputs": [
    {
     "name": "stdout",
     "output_type": "stream",
     "text": [
      "Iteration 0 Test error: 47.32573777427825 Learning rate: 0.1\n",
      "Iteration 1000 Test error: 0.597537902073964 Learning rate: 0.0030903154382632653\n",
      "Iteration 2000 Test error: 0.5905933256705923 Learning rate: 0.0030903154382632653\n",
      "Iteration 3000 Test error: 0.5841279238414345 Learning rate: 0.0030903154382632653\n",
      "Iteration 4000 Test error: 0.5781082374312343 Learning rate: 0.0030903154382632653\n",
      "Iteration 5000 Test error: 0.5725025099391362 Learning rate: 0.0030903154382632653\n",
      "Iteration 6000 Test error: 0.5672807795886176 Learning rate: 0.0030903154382632653\n",
      "Iteration 7000 Test error: 0.5624149200505305 Learning rate: 0.0030903154382632653\n",
      "Iteration 8000 Test error: 0.5578786398182072 Learning rate: 0.0030903154382632653\n",
      "Iteration 9000 Test error: 0.553647449445719 Learning rate: 0.0030903154382632653\n"
     ]
    }
   ],
   "source": [
    "# Gradient Descent with adaptive learning rate\n",
    "\n",
    "weights = np.array([random.uniform(-2.0, 2.0), random.uniform(-2.0, 2.0), random.uniform(-2.0, 2.0)])\n",
    "best_e, best_w = 1000000000, [] \n",
    "rate = 0.1\n",
    "for i in range(10000):\n",
    "    dw = loss(x_train, y_train, weights)\n",
    "    weights = update(weights, dw, rate)\n",
    "    e_in = error(x_train, y_train, weights)\n",
    "    if e_in > best_e:\n",
    "        weights = update(weights, -1 * dw, rate)\n",
    "        rate = rate * 0.9\n",
    "    if i % 1000 == 0:\n",
    "        print(\"Iteration\", i, \"Test error:\", e_in, \"Learning rate:\", rate)\n",
    "    if e_in < best_e:\n",
    "        best_e = e_in\n",
    "        best_w = weights\n",
    "weights = best_w"
   ]
  },
  {
   "cell_type": "code",
   "execution_count": 9,
   "metadata": {},
   "outputs": [
    {
     "name": "stdout",
     "output_type": "stream",
     "text": [
      "Iteration 0 Test Error: 2.2040588445105693\n",
      "Iteration 500 Test Error: 0.6025097601677215\n",
      "Iteration 1000 Test Error: 0.6025097601677215\n",
      "Iteration 1500 Test Error: 0.6025097601677215\n",
      "Iteration 2000 Test Error: 0.6025097601677215\n",
      "Iteration 2500 Test Error: 0.6025097601677215\n",
      "Iteration 3000 Test Error: 0.6025097601677215\n",
      "Iteration 3500 Test Error: 0.6025097601677215\n",
      "Iteration 4000 Test Error: 0.6025097601677215\n",
      "Iteration 4500 Test Error: 0.6025097601677215\n"
     ]
    }
   ],
   "source": [
    "# Gradient Descent with momentum\n",
    "\n",
    "def update_m(w, dw, r, m):\n",
    "    return w - (0.5 * m + r * dw)\n",
    "weights = np.array([random.uniform(-2.0, 2.0), random.uniform(-2.0, 2.0), random.uniform(-2.0, 2.0)])\n",
    "best_e, best_w = 1000000000, [] \n",
    "rate = 0.001\n",
    "for i in range(5000):\n",
    "    dw = loss(x_train, y_train, weights)\n",
    "    prev_w = weights\n",
    "    weights = update_m(weights, dw, rate, prev_w)\n",
    "    e_in = error(x_train, y_train, weights)\n",
    "    if i % 500 == 0:\n",
    "        print(\"Iteration\", i, \"Test Error:\", e_in)\n",
    "    if e_in < best_e:\n",
    "        best_e = e_in\n",
    "        best_w = weights\n",
    "weights = best_w"
   ]
  },
  {
   "cell_type": "markdown",
   "metadata": {},
   "source": [
    "In hindsight, better data could have been selected to use a logistic regression model on, as there was not much linear separation. I even tested with sklearn's logistic regression model and it only acheived a 0.77 accuracy on the data. \n",
    "\n",
    "The vanilla gradient descent algorithm seemed to take a long time to converge and it was hard to find a learning rate that gave decent results. I found that in practice the adaptive learning rate gradient descent converged in better time and allowed for the model to find the learning rate on its own. The momentum model seemed to fall into a local minimum trap, where it followed a path too far, instead of finding the overall minimum."
   ]
  }
 ],
 "metadata": {
  "kernelspec": {
   "display_name": "Python 3",
   "language": "python",
   "name": "python3"
  },
  "language_info": {
   "codemirror_mode": {
    "name": "ipython",
    "version": 3
   },
   "file_extension": ".py",
   "mimetype": "text/x-python",
   "name": "python",
   "nbconvert_exporter": "python",
   "pygments_lexer": "ipython3",
   "version": "3.8.10"
  }
 },
 "nbformat": 4,
 "nbformat_minor": 4
}
